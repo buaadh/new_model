{
 "cells": [
  {
   "cell_type": "code",
   "execution_count": 1,
   "metadata": {},
   "outputs": [],
   "source": [
    "%load_ext autoreload\n",
    "%autoreload 2\n",
    "import os\n",
    "os.chdir('/src/')"
   ]
  },
  {
   "cell_type": "code",
   "execution_count": 2,
   "metadata": {},
   "outputs": [],
   "source": [
    "# !pip install tensorizer"
   ]
  },
  {
   "attachments": {},
   "cell_type": "markdown",
   "metadata": {},
   "source": [
    "Initialize pipeline standard way:"
   ]
  },
  {
   "cell_type": "code",
   "execution_count": 3,
   "metadata": {},
   "outputs": [
    {
     "name": "stderr",
     "output_type": "stream",
     "text": [
      "/root/.pyenv/versions/3.10.11/lib/python3.10/site-packages/tqdm/auto.py:21: TqdmWarning: IProgress not found. Please update jupyter and ipywidgets. See https://ipywidgets.readthedocs.io/en/stable/user_install.html\n",
      "  from .autonotebook import tqdm as notebook_tqdm\n"
     ]
    }
   ],
   "source": [
    "import os\n",
    "from typing import List\n",
    "\n",
    "import torch\n",
    "from cog import BasePredictor, Input, Path\n",
    "from diffusers import (\n",
    "    StableDiffusionPipeline,\n",
    "    PNDMScheduler,\n",
    "    LMSDiscreteScheduler,\n",
    "    DDIMScheduler,\n",
    "    EulerDiscreteScheduler,\n",
    "    EulerAncestralDiscreteScheduler,\n",
    "    DPMSolverMultistepScheduler,\n",
    ")\n",
    "from diffusers.pipelines.stable_diffusion.safety_checker import (\n",
    "    StableDiffusionSafetyChecker,\n",
    ")\n",
    "\n",
    "import time\n",
    "import pprofile\n",
    "\n",
    "from diffusers.pipeline_utils import DiffusionPipeline\n",
    "\n",
    "import time\n",
    "import torch\n",
    "from tensorizer import TensorDeserializer\n",
    "from tensorizer.utils import no_init_or_tensor, convert_bytes, get_mem_usage\n",
    "\n",
    "import diffusers\n",
    "import transformers"
   ]
  },
  {
   "cell_type": "code",
   "execution_count": 3,
   "metadata": {},
   "outputs": [
    {
     "name": "stderr",
     "output_type": "stream",
     "text": [
      "/root/.pyenv/versions/3.10.11/lib/python3.10/site-packages/tqdm/auto.py:21: TqdmWarning: IProgress not found. Please update jupyter and ipywidgets. See https://ipywidgets.readthedocs.io/en/stable/user_install.html\n",
      "  from .autonotebook import tqdm as notebook_tqdm\n"
     ]
    },
    {
     "name": "stdout",
     "output_type": "stream",
     "text": [
      "Initialized pipeline in 9.377107620239258\n"
     ]
    }
   ],
   "source": [
    "\n",
    "\n",
    "MODEL_ID = \"stabilityai/stable-diffusion-2-1\"\n",
    "MODEL_CACHE = \"diffusers-cache\"\n",
    "SAFETY_MODEL_ID = \"CompVis/stable-diffusion-safety-checker\"\n",
    "\n",
    "st = time.time() \n",
    "safety_checker = StableDiffusionSafetyChecker.from_pretrained(\n",
    "    SAFETY_MODEL_ID,\n",
    "    cache_dir=MODEL_CACHE,\n",
    "    local_files_only=True,\n",
    ")\n",
    "pipe = StableDiffusionPipeline.from_pretrained(\n",
    "    MODEL_ID,\n",
    "    safety_checker=safety_checker,\n",
    "    cache_dir=MODEL_CACHE,\n",
    "    local_files_only=True,\n",
    ").to(\"cuda\")\n",
    "\n",
    "print(f'Initialized pipeline in {time.time() - st}')"
   ]
  },
  {
   "attachments": {},
   "cell_type": "markdown",
   "metadata": {},
   "source": [
    "# Prepare and load tensorized model weights"
   ]
  },
  {
   "attachments": {},
   "cell_type": "markdown",
   "metadata": {},
   "source": [
    "Serialize nn.Module components for faster loading:"
   ]
  },
  {
   "cell_type": "code",
   "execution_count": null,
   "metadata": {},
   "outputs": [],
   "source": [
    "tensorized_weights_base_path = \"diffusers-cache/\"\n",
    "component_map = {}\n",
    "for k, component in pipe.components.items():\n",
    "    if isinstance(component, torch.nn.Module):\n",
    "        path = os.path.join(tensorized_weights_base_path, f\"{k}.tensors\")\n",
    "        serializer = TensorSerializer(path)\n",
    "        serializer.write_module(component)\n",
    "        serializer.close()\n",
    "        component_map[k] = {'path': path, 'cls': type(component)}"
   ]
  },
  {
   "cell_type": "code",
   "execution_count": 13,
   "metadata": {},
   "outputs": [
    {
     "data": {
      "text/plain": [
       "397"
      ]
     },
     "execution_count": 13,
     "metadata": {},
     "output_type": "execute_result"
    }
   ],
   "source": [
    "# How to load just saftey checker, for eg.\n",
    "\n",
    "import time\n",
    "import torch\n",
    "from tensorizer import TensorDeserializer\n",
    "from tensorizer.utils import no_init_or_tensor, convert_bytes, get_mem_usage\n",
    "\n",
    "path = './diffusers-cache/safety_checker.tensors'\n",
    "with no_init_or_tensor():\n",
    "    model = StableDiffusionSafetyChecker.from_pretrained(\n",
    "        SAFETY_MODEL_ID,\n",
    "        cache_dir=MODEL_CACHE,\n",
    "        local_files_only=True,\n",
    "    )\n",
    "\n",
    "deserializer = TensorDeserializer(path, plaid_mode=True)\n",
    "deserializer.load_into_module(model)"
   ]
  },
  {
   "cell_type": "code",
   "execution_count": 53,
   "metadata": {},
   "outputs": [
    {
     "name": "stdout",
     "output_type": "stream",
     "text": [
      "vae <class 'diffusers.models.vae.AutoencoderKL'>\n",
      "text_encoder <class 'transformers.models.clip.modeling_clip.CLIPTextModel'>\n",
      "tokenizer <class 'transformers.models.clip.tokenization_clip.CLIPTokenizer'>\n",
      "unet <class 'diffusers.models.unet_2d_condition.UNet2DConditionModel'>\n",
      "scheduler <class 'diffusers.schedulers.scheduling_ddim.DDIMScheduler'>\n",
      "safety_checker <class 'diffusers.pipelines.stable_diffusion.safety_checker.StableDiffusionSafetyChecker'>\n",
      "feature_extractor <class 'transformers.models.clip.image_processing_clip.CLIPImageProcessor'>\n"
     ]
    }
   ],
   "source": [
    "component_map = {}\n",
    "for k,v in pipe.components.items():\n",
    "    print(k, type(v))"
   ]
  },
  {
   "cell_type": "code",
   "execution_count": 2,
   "metadata": {},
   "outputs": [
    {
     "name": "stderr",
     "output_type": "stream",
     "text": [
      "/root/.pyenv/versions/3.10.11/lib/python3.10/site-packages/tqdm/auto.py:21: TqdmWarning: IProgress not found. Please update jupyter and ipywidgets. See https://ipywidgets.readthedocs.io/en/stable/user_install.html\n",
      "  from .autonotebook import tqdm as notebook_tqdm\n"
     ]
    }
   ],
   "source": [
    "import time\n",
    "import torch\n",
    "from tensorizer import TensorDeserializer\n",
    "from tensorizer.utils import no_init_or_tensor, convert_bytes, get_mem_usage\n",
    "\n",
    "import diffusers\n",
    "import transformers\n"
   ]
  },
  {
   "cell_type": "code",
   "execution_count": 4,
   "metadata": {},
   "outputs": [
    {
     "name": "stdout",
     "output_type": "stream",
     "text": [
      "Loading vae...\n",
      "  Loaded in 1.9844210147857666\n",
      "Loading text_encoder...\n",
      "  Loaded in 1.2234342098236084\n",
      "Loading unet...\n",
      "  Loaded in 2.93279767036438\n",
      "Loading safety_checker...\n",
      "  Loaded in 1.114502191543579\n",
      "Loading tokenizer...\n",
      "  Loaded in 0.22099900245666504\n",
      "Loading feature_extractor...\n",
      "  Loaded in 0.000606536865234375\n",
      "Initialized pipeline in 7.478455305099487\n"
     ]
    }
   ],
   "source": [
    "component_map = {\n",
    "    'vae': {\n",
    "            'tensorized_weights': 'diffusers-cache/vae.tensors',\n",
    "            'path': 'diffusers-cache/models--stabilityai--stable-diffusion-2-1/snapshots/845609e6cf0a060d8cd837297e5c169df5bff72c/vae',\n",
    "            'cls': diffusers.models.vae.AutoencoderKL\n",
    "        },\n",
    "    'text_encoder': {\n",
    "            'tensorized_weights': 'diffusers-cache/text_encoder.tensors',\n",
    "            'path': 'diffusers-cache/models--stabilityai--stable-diffusion-2-1/snapshots/845609e6cf0a060d8cd837297e5c169df5bff72c/text_encoder',\n",
    "            'cls': transformers.models.clip.modeling_clip.CLIPTextModel,\n",
    "        },\n",
    "    'unet': {\n",
    "            'tensorized_weights': 'diffusers-cache/unet.tensors',  \n",
    "            'path': 'diffusers-cache/models--stabilityai--stable-diffusion-2-1/snapshots/845609e6cf0a060d8cd837297e5c169df5bff72c/unet',\n",
    "            'cls': diffusers.models.unet_2d_condition.UNet2DConditionModel\n",
    "        },\n",
    "    'safety_checker': {\n",
    "            'tensorized_weights': 'diffusers-cache/safety_checker.tensors',\n",
    "            'path': 'diffusers-cache/models--CompVis--stable-diffusion-safety-checker/snapshots/cb41f3a270d63d454d385fc2e4f571c487c253c5',\n",
    "            'cls': diffusers.pipelines.stable_diffusion.safety_checker.StableDiffusionSafetyChecker\n",
    "        },\n",
    "    'tokenizer': {\n",
    "            'path': 'diffusers-cache/models--stabilityai--stable-diffusion-2-1/snapshots/845609e6cf0a060d8cd837297e5c169df5bff72c/tokenizer',\n",
    "            'cls': transformers.models.clip.tokenization_clip.CLIPTokenizer,\n",
    "        },\n",
    "    'feature_extractor': {\n",
    "            'path': 'diffusers-cache/models--stabilityai--stable-diffusion-2-1/snapshots/845609e6cf0a060d8cd837297e5c169df5bff72c/feature_extractor',\n",
    "            'cls': transformers.models.clip.image_processing_clip.CLIPImageProcessor,\n",
    "        },\n",
    "}\n",
    "\n",
    "components = {\"scheduler\": diffusers.schedulers.scheduling_ddim.DDIMScheduler}\n",
    "st = time.time()\n",
    "for k in component_map.keys():\n",
    "    print(f'Loading {k}...')\n",
    "    cls = component_map[k].get('cls')\n",
    "    path = component_map[k].get('path')\n",
    "    tensorized_weights = component_map[k].get('tensorized_weights', None)\n",
    "    st_i = time.time()\n",
    "\n",
    "    if tensorized_weights:\n",
    "        with no_init_or_tensor():\n",
    "            model = cls.from_pretrained(path)\n",
    "        \n",
    "        deserializer = TensorDeserializer(tensorized_weights, plaid_mode=True)\n",
    "        deserializer.load_into_module(model)\n",
    "\n",
    "        components[k] = model\n",
    "    \n",
    "    else:\n",
    "        model = cls.from_pretrained(path)\n",
    "        components[k] = model\n",
    "    \n",
    "    print(f'  Loaded in {time.time() - st_i}')\n",
    "    \n",
    "pipe = diffusers.StableDiffusionPipeline(**components)\n",
    "print(f'Initialized pipeline in {time.time() - st}')    \n"
   ]
  },
  {
   "cell_type": "code",
   "execution_count": null,
   "metadata": {},
   "outputs": [],
   "source": []
  }
 ],
 "metadata": {
  "kernelspec": {
   "display_name": "Python 3",
   "language": "python",
   "name": "python3"
  },
  "language_info": {
   "codemirror_mode": {
    "name": "ipython",
    "version": 3
   },
   "file_extension": ".py",
   "mimetype": "text/x-python",
   "name": "python",
   "nbconvert_exporter": "python",
   "pygments_lexer": "ipython3",
   "version": "3.10.11"
  },
  "orig_nbformat": 4
 },
 "nbformat": 4,
 "nbformat_minor": 2
}
